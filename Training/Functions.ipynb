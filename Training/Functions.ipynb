{
 "cells": [
  {
   "cell_type": "code",
   "execution_count": 1,
   "id": "seeing-popularity",
   "metadata": {},
   "outputs": [
    {
     "name": "stdout",
     "output_type": "stream",
     "text": [
      "Hello World!\n",
      "None\n"
     ]
    }
   ],
   "source": [
    "def show():\n",
    "    print(\"Hello World!\")\n",
    "    \n",
    "print(show())"
   ]
  },
  {
   "cell_type": "markdown",
   "id": "weighted-mistress",
   "metadata": {},
   "source": [
    "None donmesinin sebebi zaten program icerisinde de print yapmasi\n"
   ]
  },
  {
   "cell_type": "code",
   "execution_count": 2,
   "id": "adaptive-oracle",
   "metadata": {},
   "outputs": [
    {
     "name": "stdout",
     "output_type": "stream",
     "text": [
      "Hello World!\n",
      "<class 'NoneType'>\n"
     ]
    }
   ],
   "source": [
    "print(type(show()))"
   ]
  },
  {
   "cell_type": "raw",
   "id": "relevant-distance",
   "metadata": {},
   "source": [
    "Dolayisiyla bizim bu fonksiyonu efektif kullanabilmemiz icin return ile yazamamiz gerekiyor."
   ]
  },
  {
   "cell_type": "code",
   "execution_count": 4,
   "id": "revised-explorer",
   "metadata": {},
   "outputs": [
    {
     "name": "stdout",
     "output_type": "stream",
     "text": [
      "Hello World!\n"
     ]
    }
   ],
   "source": [
    "def show():\n",
    "    return \"Hello World!\" # return ile fonksiyon binevi dondurdugu degere esit oldu\n",
    "    \n",
    "print(show())"
   ]
  },
  {
   "cell_type": "code",
   "execution_count": 5,
   "id": "protected-grave",
   "metadata": {},
   "outputs": [
    {
     "data": {
      "text/plain": [
       "str"
      ]
     },
     "execution_count": 5,
     "metadata": {},
     "output_type": "execute_result"
    }
   ],
   "source": [
    "type(show()) # bu sefer str objesi oldugunu gorduk"
   ]
  },
  {
   "cell_type": "code",
   "execution_count": 12,
   "id": "polar-chemistry",
   "metadata": {},
   "outputs": [
    {
     "data": {
      "text/plain": [
       "'Number is Odd'"
      ]
     },
     "execution_count": 12,
     "metadata": {},
     "output_type": "execute_result"
    }
   ],
   "source": [
    "def even_odd(number):\n",
    "    if number % 2 == 0:\n",
    "        return \"Number is Odd\"\n",
    "    else:\n",
    "        return \"Number is Even\"\n",
    "\n",
    "even_odd(5) # 'Number is Odd'\n",
    "even_odd(6) # # 'Number is Even'\n"
   ]
  },
  {
   "cell_type": "raw",
   "id": "southwest-junction",
   "metadata": {},
   "source": [
    "ONEMLI = Fonksiyonda return degerini isledigi andan itibaren asagisinda yer alan islemleri yapmaz. Yani fonksiyondan cikar."
   ]
  },
  {
   "cell_type": "code",
   "execution_count": 16,
   "id": "digital-relationship",
   "metadata": {},
   "outputs": [
    {
     "data": {
      "text/plain": [
       "5"
      ]
     },
     "execution_count": 16,
     "metadata": {},
     "output_type": "execute_result"
    }
   ],
   "source": [
    "def deneme(sayi):\n",
    "    return sayi\n",
    "    print(\"Buradayim\")\n",
    "\n",
    "deneme(5) # 5"
   ]
  },
  {
   "cell_type": "markdown",
   "id": "young-sydney",
   "metadata": {},
   "source": [
    "Fonksiyon tanimlama 1"
   ]
  },
  {
   "cell_type": "code",
   "execution_count": 18,
   "id": "objective-radiation",
   "metadata": {},
   "outputs": [
    {
     "data": {
      "text/plain": [
       "25"
      ]
     },
     "execution_count": 18,
     "metadata": {},
     "output_type": "execute_result"
    }
   ],
   "source": [
    "def big(a,b): # 2 arguments\n",
    "    if a > b:\n",
    "        return a\n",
    "    elif b > a:\n",
    "        return b\n",
    "    return a\n",
    "\n",
    "big(10,25)"
   ]
  },
  {
   "cell_type": "markdown",
   "id": "purple-citizen",
   "metadata": {},
   "source": [
    "Fonksiyon tanimlama 2 - Arguman yerine * kullanimi - cok fazla sayida arguman icin ayni islemi yapar "
   ]
  },
  {
   "cell_type": "code",
   "execution_count": 20,
   "id": "medium-porter",
   "metadata": {},
   "outputs": [
    {
     "data": {
      "text/plain": [
       "974"
      ]
     },
     "execution_count": 20,
     "metadata": {},
     "output_type": "execute_result"
    }
   ],
   "source": [
    "# more than 4,5... arguments \n",
    "\n",
    "def sum_all(*numbers): # it makes a list\n",
    "    sum_numbers = 0\n",
    "    for number in numbers:\n",
    "        sum_numbers += number\n",
    "    return sum_numbers\n",
    "\n",
    "sum_all(10,15,20,48,98,78,652,15,2,35,1) # Sum of the numbers is = 974"
   ]
  },
  {
   "cell_type": "markdown",
   "id": "weekly-frame",
   "metadata": {},
   "source": [
    "Fonksiyon tanimlama 3"
   ]
  },
  {
   "cell_type": "code",
   "execution_count": 24,
   "id": "restricted-message",
   "metadata": {},
   "outputs": [
    {
     "data": {
      "text/plain": [
       "16"
      ]
     },
     "execution_count": 24,
     "metadata": {},
     "output_type": "execute_result"
    }
   ],
   "source": [
    "def kuvvet_al(sayi,kuvvet = 2): # Eger bir kuvvet tanimlamazsam otomatik olarak karesini verecek diger turlu tanimladigim kuvveti verecek\n",
    "    return sayi ** kuvvet\n",
    "\n",
    "kuvvet_al(5,3) #125\n",
    "kuvvet_al(5) #25\n",
    "kuvvet_al(6) #36\n",
    "kuvvet_al(2,4) #16"
   ]
  },
  {
   "cell_type": "code",
   "execution_count": 25,
   "id": "manual-humanitarian",
   "metadata": {},
   "outputs": [
    {
     "name": "stdout",
     "output_type": "stream",
     "text": [
      "Hello World! Merhaba Dunya!\n"
     ]
    }
   ],
   "source": [
    "print(\"Hello\", \"World!\", \"Merhaba\", \"Dunya!\")"
   ]
  },
  {
   "cell_type": "code",
   "execution_count": 26,
   "id": "raised-transformation",
   "metadata": {},
   "outputs": [
    {
     "name": "stdout",
     "output_type": "stream",
     "text": [
      "Hello***World!***Merhaba***Dunya!\n"
     ]
    }
   ],
   "source": [
    "print(\"Hello\", \"World!\", \"Merhaba\", \"Dunya!\", sep=\"***\") # burada sep varsayilan olarak \" \" a esit o yuzden yukaridaki ornekte bosluk birakti"
   ]
  },
  {
   "cell_type": "markdown",
   "id": "prospective-publicity",
   "metadata": {},
   "source": [
    "Fonksiyon tanimlama 4 - ** arguman tanimlama - Dictionary -> key,value"
   ]
  },
  {
   "cell_type": "code",
   "execution_count": 28,
   "id": "domestic-arizona",
   "metadata": {},
   "outputs": [
    {
     "name": "stdout",
     "output_type": "stream",
     "text": [
      "name Kerim\n",
      "surname Sak\n",
      "age 29\n",
      "country Netherlands\n"
     ]
    }
   ],
   "source": [
    "def show_values(**values):\n",
    "    for key, value in values.items():\n",
    "        print(key, value)\n",
    "        \n",
    "show_values(name = \"Kerim\", surname = \"Sak\", age = \"29\", country = \"Netherlands\")"
   ]
  },
  {
   "cell_type": "code",
   "execution_count": null,
   "id": "chinese-former",
   "metadata": {},
   "outputs": [],
   "source": []
  }
 ],
 "metadata": {
  "kernelspec": {
   "display_name": "Python 3",
   "language": "python",
   "name": "python3"
  },
  "language_info": {
   "codemirror_mode": {
    "name": "ipython",
    "version": 3
   },
   "file_extension": ".py",
   "mimetype": "text/x-python",
   "name": "python",
   "nbconvert_exporter": "python",
   "pygments_lexer": "ipython3",
   "version": "3.9.1"
  }
 },
 "nbformat": 4,
 "nbformat_minor": 5
}
