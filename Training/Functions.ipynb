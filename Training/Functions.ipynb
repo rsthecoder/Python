{
 "cells": [
  {
   "cell_type": "code",
   "execution_count": 1,
   "id": "casual-chester",
   "metadata": {},
   "outputs": [
    {
     "name": "stdout",
     "output_type": "stream",
     "text": [
      "Hello World!\n",
      "None\n"
     ]
    }
   ],
   "source": [
    "def show():\n",
    "    print(\"Hello World!\")\n",
    "    \n",
    "print(show())"
   ]
  },
  {
   "cell_type": "markdown",
   "id": "confirmed-persian",
   "metadata": {},
   "source": [
    "None donmesinin sebebi zaten program icerisinde de print yapmasi\n"
   ]
  },
  {
   "cell_type": "code",
   "execution_count": 2,
   "id": "happy-participant",
   "metadata": {},
   "outputs": [
    {
     "name": "stdout",
     "output_type": "stream",
     "text": [
      "Hello World!\n",
      "<class 'NoneType'>\n"
     ]
    }
   ],
   "source": [
    "print(type(show()))"
   ]
  },
  {
   "cell_type": "raw",
   "id": "intelligent-measurement",
   "metadata": {},
   "source": [
    "Dolayisiyla bizim bu fonksiyonu efektif kullanabilmemiz icin return ile yazamamiz gerekiyor."
   ]
  },
  {
   "cell_type": "code",
   "execution_count": 4,
   "id": "spare-buffer",
   "metadata": {},
   "outputs": [
    {
     "name": "stdout",
     "output_type": "stream",
     "text": [
      "Hello World!\n"
     ]
    }
   ],
   "source": [
    "def show():\n",
    "    return \"Hello World!\" # return ile fonksiyon binevi dondurdugu degere esit oldu\n",
    "    \n",
    "print(show())"
   ]
  },
  {
   "cell_type": "code",
   "execution_count": 5,
   "id": "finite-signature",
   "metadata": {},
   "outputs": [
    {
     "data": {
      "text/plain": [
       "str"
      ]
     },
     "execution_count": 5,
     "metadata": {},
     "output_type": "execute_result"
    }
   ],
   "source": [
    "type(show()) # bu sefer str objesi oldugunu gorduk"
   ]
  },
  {
   "cell_type": "code",
   "execution_count": 12,
   "id": "hispanic-warehouse",
   "metadata": {},
   "outputs": [
    {
     "data": {
      "text/plain": [
       "'Number is Odd'"
      ]
     },
     "execution_count": 12,
     "metadata": {},
     "output_type": "execute_result"
    }
   ],
   "source": [
    "def even_odd(number):\n",
    "    if number % 2 == 0:\n",
    "        return \"Number is Odd\"\n",
    "    else:\n",
    "        return \"Number is Even\"\n",
    "\n",
    "even_odd(5) # 'Number is Odd'\n",
    "even_odd(6) # # 'Number is Even'\n"
   ]
  },
  {
   "cell_type": "raw",
   "id": "meaningful-hearing",
   "metadata": {},
   "source": [
    "ONEMLI = Fonksiyonda return degerini isledigi andan itibaren asagisinda yer alan islemleri yapmaz. Yani fonksiyondan cikar."
   ]
  },
  {
   "cell_type": "code",
   "execution_count": 16,
   "id": "million-chase",
   "metadata": {},
   "outputs": [
    {
     "data": {
      "text/plain": [
       "5"
      ]
     },
     "execution_count": 16,
     "metadata": {},
     "output_type": "execute_result"
    }
   ],
   "source": [
    "def deneme(sayi):\n",
    "    return sayi\n",
    "    print(\"Buradayim\")\n",
    "\n",
    "deneme(5) # 5"
   ]
  },
  {
   "cell_type": "code",
   "execution_count": null,
   "id": "periodic-colors",
   "metadata": {},
   "outputs": [],
   "source": []
  }
 ],
 "metadata": {
  "kernelspec": {
   "display_name": "Python 3",
   "language": "python",
   "name": "python3"
  },
  "language_info": {
   "codemirror_mode": {
    "name": "ipython",
    "version": 3
   },
   "file_extension": ".py",
   "mimetype": "text/x-python",
   "name": "python",
   "nbconvert_exporter": "python",
   "pygments_lexer": "ipython3",
   "version": "3.9.1"
  }
 },
 "nbformat": 4,
 "nbformat_minor": 5
}
